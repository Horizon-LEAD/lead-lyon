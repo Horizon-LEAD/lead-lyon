{
 "cells": [
  {
   "cell_type": "code",
   "execution_count": 1,
   "metadata": {
    "tags": [
     "parameters"
    ]
   },
   "outputs": [],
   "source": [
    "input_path = \"input\"\n",
    "output_path = \"output\""
   ]
  },
  {
   "cell_type": "code",
   "execution_count": 2,
   "metadata": {},
   "outputs": [
    {
     "name": "stderr",
     "output_type": "stream",
     "text": [
      "/home/shoerl/anaconda3/envs/lead_lyon/lib/python3.8/site-packages/geopandas/_compat.py:106: UserWarning: The Shapely GEOS version (3.8.0-CAPI-1.13.1 ) is incompatible with the GEOS version PyGEOS was compiled with (3.9.1-CAPI-1.14.2). Conversions between both will be slow.\n",
      "  warnings.warn(\n"
     ]
    }
   ],
   "source": [
    "import geopandas as gpd\n",
    "import os"
   ]
  },
  {
   "cell_type": "code",
   "execution_count": 3,
   "metadata": {},
   "outputs": [],
   "source": [
    "assert os.path.exists(\"%s/area.gpkg\" % input_path)"
   ]
  },
  {
   "cell_type": "code",
   "execution_count": 4,
   "metadata": {},
   "outputs": [],
   "source": [
    "df = gpd.read_file(\"%s/area.gpkg\" % input_path)\n",
    "df = df.to_crs(\"EPSG:4326\")\n",
    "\n",
    "df[\"aggregate\"] = 0\n",
    "area = df.dissolve(by = \"aggregate\")[\"geometry\"].values[0]\n",
    "\n",
    "if not hasattr(area, \"exterior\"):\n",
    "    print(\"Selected area is not connected -> Using convex hull.\")\n",
    "    area = area.convex_hull\n",
    "\n",
    "data = []\n",
    "data.append(\"polyfile\")\n",
    "data.append(\"polygon\")\n",
    "\n",
    "for coordinate in area.exterior.coords:\n",
    "    data.append(\"    %e    %e\" % coordinate)\n",
    "\n",
    "data.append(\"END\")\n",
    "data.append(\"END\")\n",
    "\n",
    "with open(\"%s/area.poly\" % output_path, \"w+\") as f:\n",
    "    f.write(\"\\n\".join(data))"
   ]
  }
 ],
 "metadata": {
  "celltoolbar": "Tags",
  "kernelspec": {
   "display_name": "Python 3",
   "language": "python",
   "name": "python3"
  },
  "language_info": {
   "codemirror_mode": {
    "name": "ipython",
    "version": 3
   },
   "file_extension": ".py",
   "mimetype": "text/x-python",
   "name": "python",
   "nbconvert_exporter": "python",
   "pygments_lexer": "ipython3",
   "version": "3.8.10"
  }
 },
 "nbformat": 4,
 "nbformat_minor": 4
}
