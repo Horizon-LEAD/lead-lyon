{
 "cells": [
  {
   "cell_type": "code",
   "execution_count": 1,
   "metadata": {
    "tags": [
     "parameters"
    ]
   },
   "outputs": [],
   "source": [
    "input_path = \"input\"\n",
    "output_path = \"output\"\n",
    "crs = \"EPSG:2154\""
   ]
  },
  {
   "cell_type": "code",
   "execution_count": 2,
   "metadata": {},
   "outputs": [
    {
     "name": "stderr",
     "output_type": "stream",
     "text": [
      "/home/shoerl/anaconda3/envs/lead_lyon/lib/python3.8/site-packages/geopandas/_compat.py:106: UserWarning: The Shapely GEOS version (3.8.0-CAPI-1.13.1 ) is incompatible with the GEOS version PyGEOS was compiled with (3.9.1-CAPI-1.14.2). Conversions between both will be slow.\n",
      "  warnings.warn(\n"
     ]
    }
   ],
   "source": [
    "import numpy as np\n",
    "import pandas as pd\n",
    "from tqdm.notebook import tqdm\n",
    "import itertools\n",
    "import geopandas as gpd\n",
    "import os"
   ]
  },
  {
   "cell_type": "code",
   "execution_count": 3,
   "metadata": {},
   "outputs": [],
   "source": [
    "assert os.path.exists(input_path)"
   ]
  },
  {
   "cell_type": "markdown",
   "metadata": {},
   "source": [
    "# Network"
   ]
  },
  {
   "cell_type": "code",
   "execution_count": 4,
   "metadata": {},
   "outputs": [],
   "source": [
    "import networkx as nx\n",
    "import pyrosm "
   ]
  },
  {
   "cell_type": "code",
   "execution_count": 5,
   "metadata": {},
   "outputs": [],
   "source": [
    "osm = pyrosm.OSM(\"%s/filtered_area.osm.pbf\" % input_path)\n",
    "df_nodes, df_edges = osm.get_network(nodes = True, network_type = \"driving\")\n",
    "\n",
    "df_nodes = df_nodes.to_crs(crs)\n",
    "df_edges = df_edges.to_crs(crs)\n",
    "\n",
    "graph = osm.to_graph(df_nodes, df_edges, graph_type=\"networkx\")\n",
    "df_nodes = df_nodes[df_nodes[\"id\"].isin(graph.nodes)]"
   ]
  },
  {
   "cell_type": "code",
   "execution_count": 6,
   "metadata": {},
   "outputs": [
    {
     "data": {
      "application/vnd.jupyter.widget-view+json": {
       "model_id": "5d59d9b326904f77a5daed49fa1b5723",
       "version_major": 2,
       "version_minor": 0
      },
      "text/plain": [
       "HBox(children=(HTML(value=''), FloatProgress(value=0.0, max=694431.0), HTML(value='')))"
      ]
     },
     "metadata": {},
     "output_type": "display_data"
    },
    {
     "name": "stdout",
     "output_type": "stream",
     "text": [
      "\n"
     ]
    }
   ],
   "source": [
    "# Calculate distance matrix\n",
    "\n",
    "nodes = list(graph.nodes)\n",
    "df_distances = []\n",
    "\n",
    "with tqdm(total = np.cumsum(np.arange(len(nodes)))[-1]) as progress:\n",
    "    progress.update()\n",
    "    \n",
    "    for i in range(len(nodes)): \n",
    "        df_distances.append(dict(\n",
    "            from_node = nodes[i], to_node = nodes[i],\n",
    "            distance = 0.0\n",
    "        ))\n",
    "        \n",
    "        for j in range(i + 1, len(nodes)):\n",
    "            df_distances.append(dict(\n",
    "                from_node = nodes[i], to_node = nodes[j],\n",
    "                distance = nx.algorithms.shortest_path_length(graph, nodes[i], nodes[j], weight = \"length\")\n",
    "            ))\n",
    "            \n",
    "            progress.update()\n",
    "\n",
    "df_distances = pd.DataFrame.from_records(df_distances)"
   ]
  },
  {
   "cell_type": "code",
   "execution_count": 7,
   "metadata": {},
   "outputs": [],
   "source": [
    "df_distances.to_csv(\n",
    "    \"%s/vrp_distances.csv\" % output_path, sep = \";\"\n",
    ")"
   ]
  },
  {
   "cell_type": "code",
   "execution_count": 8,
   "metadata": {},
   "outputs": [],
   "source": [
    "# Write outnetwork\n",
    "\n",
    "df_edges[\n",
    "    df_edges[\"u\"].isin(df_nodes[\"id\"]) & df_edges[\"v\"].isin(df_nodes[\"id\"])\n",
    "].to_file(\"%s/vrp_network.gpkg\" % output_path, driver = \"GPKG\")\n",
    "\n",
    "df_nodes.to_file(\"%s/vrp_nodes.gpkg\" % output_path, driver = \"GPKG\")"
   ]
  },
  {
   "cell_type": "code",
   "execution_count": 9,
   "metadata": {},
   "outputs": [],
   "source": [
    "df_nodes_file = df_nodes.copy()\n",
    "df_nodes_file[\"x\"] = df_nodes.geometry.x\n",
    "df_nodes_file[\"y\"] = df_nodes.geometry.y\n",
    "df_nodes_file[\"location_id\"] = df_nodes_file[\"id\"]\n",
    "df_nodes_file[[\"location_id\", \"x\", \"y\"]].to_csv(\"%s/vrp_nodes.csv\" % output_path, sep = \";\")"
   ]
  }
 ],
 "metadata": {
  "celltoolbar": "Tags",
  "kernelspec": {
   "display_name": "Python 3",
   "language": "python",
   "name": "python3"
  },
  "language_info": {
   "codemirror_mode": {
    "name": "ipython",
    "version": 3
   },
   "file_extension": ".py",
   "mimetype": "text/x-python",
   "name": "python",
   "nbconvert_exporter": "python",
   "pygments_lexer": "ipython3",
   "version": "3.8.10"
  }
 },
 "nbformat": 4,
 "nbformat_minor": 4
}
