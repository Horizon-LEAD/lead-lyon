{
 "cells": [
  {
   "cell_type": "code",
   "execution_count": 30,
   "metadata": {
    "tags": [
     "parameters"
    ]
   },
   "outputs": [],
   "source": [
    "input_path = \"input\"\n",
    "output_path = \"output\"\n",
    "\n",
    "seed = 0\n",
    "\n",
    "delivery_days = 313 # 365\n",
    "scaling = 1.0\n",
    "\n",
    "earliest_delivery_time = 7\n",
    "latest_delivery_time = 23"
   ]
  },
  {
   "cell_type": "code",
   "execution_count": 31,
   "metadata": {},
   "outputs": [],
   "source": [
    "earliest_delivery_time *= 3600.0\n",
    "latest_delivery_time *= 3600.0"
   ]
  },
  {
   "cell_type": "code",
   "execution_count": 3,
   "metadata": {},
   "outputs": [
    {
     "name": "stderr",
     "output_type": "stream",
     "text": [
      "/home/shoerl/anaconda3/envs/lead_lyon/lib/python3.8/site-packages/geopandas/_compat.py:106: UserWarning: The Shapely GEOS version (3.8.0-CAPI-1.13.1 ) is incompatible with the GEOS version PyGEOS was compiled with (3.9.1-CAPI-1.14.2). Conversions between both will be slow.\n",
      "  warnings.warn(\n"
     ]
    }
   ],
   "source": [
    "import numpy as np\n",
    "import pandas as pd\n",
    "from tqdm.notebook import tqdm\n",
    "import itertools\n",
    "import scipy.stats as stats\n",
    "import geopandas as gpd\n",
    "import os"
   ]
  },
  {
   "cell_type": "code",
   "execution_count": 4,
   "metadata": {},
   "outputs": [],
   "source": [
    "assert os.path.exists(\"%s/persons.csv\" % input_path)\n",
    "assert os.path.exists(\"%s/homes.gpkg\" % input_path)\n",
    "assert os.path.exists(\"%s/activities.csv\" % input_path)"
   ]
  },
  {
   "cell_type": "markdown",
   "metadata": {},
   "source": [
    "# Impute categories to population"
   ]
  },
  {
   "cell_type": "code",
   "execution_count": 5,
   "metadata": {},
   "outputs": [],
   "source": [
    "df_persons = pd.read_csv(\"%s/persons.csv\" % input_path, sep = \";\")\n",
    "df_persons = df_persons[df_persons[\"age\"] >= 18]"
   ]
  },
  {
   "cell_type": "code",
   "execution_count": 6,
   "metadata": {},
   "outputs": [],
   "source": [
    "# Age class\n",
    "\n",
    "df_persons.loc[(df_persons[\"age\"] >= 18) & (df_persons[\"age\"] <= 34), \"ac\"] = 0 # 18 - 34\n",
    "df_persons.loc[(df_persons[\"age\"] >= 35) & (df_persons[\"age\"] <= 49), \"ac\"] = 1 # 35 - 49\n",
    "df_persons.loc[(df_persons[\"age\"] >= 50) & (df_persons[\"age\"] <= 64), \"ac\"] = 2 # 50 - 64\n",
    "df_persons.loc[(df_persons[\"age\"] >= 65), \"ac\"] = 3 # 65+\n",
    "df_persons[\"ac\"] = df_persons[\"ac\"].astype(int)"
   ]
  },
  {
   "cell_type": "code",
   "execution_count": 7,
   "metadata": {},
   "outputs": [],
   "source": [
    "# Socioprofessional class\n",
    "\n",
    "df_persons.loc[df_persons[\"socioprofessional_class\"].isin([1, 2]), \"sc\"] = 0 # CE,Artis,Com\n",
    "df_persons.loc[df_persons[\"socioprofessional_class\"].isin([3]), \"sc\"] = 1 # Cadre\n",
    "df_persons.loc[df_persons[\"socioprofessional_class\"].isin([4]), \"sc\"] = 2 # Prof Int\n",
    "df_persons.loc[df_persons[\"socioprofessional_class\"].isin([5]), \"sc\"] = 3 # Employe\n",
    "df_persons.loc[df_persons[\"socioprofessional_class\"].isin([6]), \"sc\"] = 4 # Ouvrier\n",
    "df_persons.loc[df_persons[\"socioprofessional_class\"].isin([7]), \"sc\"] = 5 # Retraite\n",
    "df_persons.loc[df_persons[\"socioprofessional_class\"].isin([8]), \"sc\"] = 6 # Sans Act\n",
    "df_persons[\"sc\"] = df_persons[\"sc\"].astype(int)"
   ]
  },
  {
   "cell_type": "code",
   "execution_count": 8,
   "metadata": {},
   "outputs": [],
   "source": [
    "# Household size class\n",
    "\n",
    "df_household_size = df_persons.groupby(\"household_id\").size().reset_index(name = \"household_size\")\n",
    "df_persons = pd.merge(df_persons, df_household_size, on = \"household_id\")\n",
    "\n",
    "df_persons.loc[df_persons[\"household_size\"] == 1, \"hc\"] = 0 # 1\n",
    "df_persons.loc[df_persons[\"household_size\"] == 2, \"hc\"] = 1 # 2\n",
    "df_persons.loc[df_persons[\"household_size\"] == 3, \"hc\"] = 2 # 3\n",
    "df_persons.loc[df_persons[\"household_size\"] >= 4, \"hc\"] = 3 # 4+\n",
    "df_persons[\"hc\"] = df_persons[\"hc\"].astype(int)"
   ]
  },
  {
   "cell_type": "markdown",
   "metadata": {},
   "source": [
    "# Obtain marginals from report"
   ]
  },
  {
   "cell_type": "code",
   "execution_count": 9,
   "metadata": {},
   "outputs": [],
   "source": [
    "# LAD by household size class and socioprofessional class (Figure 29)\n",
    "\n",
    "marginal_hc_sc = np.array([\n",
    "    [4, 12, 9, 14, 10, 5, 5],\n",
    "    [27, 18, 15, 4, 16, 6, 13],\n",
    "    [24, 26, 22, 6, 12, 10, 22],\n",
    "    [30, 29, 22, 15, 29, 16, 17],\n",
    "])\n",
    "\n",
    "# LAD by age class and socioprofessional class (Figure 30)\n",
    "\n",
    "marginal_ac_sc = np.array([\n",
    "    [45, 29, 21, 18, 20, 0, 18],\n",
    "    [30, 29, 19, 14, 22, 0, 11],\n",
    "    [14, 17, 10, 5, 16, 12, 9],\n",
    "    [12, 9, 0, 0, 0, 5, 2],\n",
    "])\n",
    "\n",
    "# LAD by socioprofessional class (Table 8)\n",
    "\n",
    "marginal_sc = np.array([\n",
    "    23.51, 21.19, 19.08, 15.15, 10.31, 9.77, 6.11\n",
    "])\n",
    "\n",
    "# Home delivery by socioprofessional class (Table 8)\n",
    "\n",
    "probability_home_delivery = np.array([\n",
    "    53.2, 46.8, 40.7, 49.1, 26.3, 56.5, 70.2\n",
    "]) * 1e-2\n",
    "\n",
    "# Total number of orders per year\n",
    "marginal_total = 14.0"
   ]
  },
  {
   "cell_type": "markdown",
   "metadata": {},
   "source": [
    "# Sample reference persons and aggregate counts"
   ]
  },
  {
   "cell_type": "code",
   "execution_count": 10,
   "metadata": {},
   "outputs": [],
   "source": [
    "np.random.seed(seed)\n",
    "\n",
    "sorter = np.arange(len(df_persons))\n",
    "np.random.shuffle(sorter)\n",
    "\n",
    "df_persons = df_persons.iloc[sorter]\n",
    "df_persons = df_persons.drop_duplicates(\"household_id\")"
   ]
  },
  {
   "cell_type": "code",
   "execution_count": 11,
   "metadata": {},
   "outputs": [],
   "source": [
    "df = df_persons.groupby([\n",
    "    \"ac\", \"hc\", \"sc\"\n",
    "]).size().reset_index(name = \"count\")\n",
    "\n",
    "df[\"weight\"] = 1.0"
   ]
  },
  {
   "cell_type": "markdown",
   "metadata": {},
   "source": [
    "# Apply weighting"
   ]
  },
  {
   "cell_type": "code",
   "execution_count": 12,
   "metadata": {},
   "outputs": [
    {
     "data": {
      "application/vnd.jupyter.widget-view+json": {
       "model_id": "77bc2f0b5bb84c2aaa1ba4689d969e7f",
       "version_major": 2,
       "version_minor": 0
      },
      "text/plain": [
       "HBox(children=(HTML(value=''), FloatProgress(value=0.0), HTML(value='')))"
      ]
     },
     "metadata": {},
     "output_type": "display_data"
    },
    {
     "name": "stdout",
     "output_type": "stream",
     "text": [
      "\n"
     ]
    }
   ],
   "source": [
    "for k in tqdm(range(100)): # Run 100 iterations\n",
    "    \n",
    "    # Weighting of household size x socioprofessional class\n",
    "    for hc in range(4):\n",
    "        for sc in range(7):\n",
    "            f = (df[\"hc\"] == hc) & (df[\"sc\"] == sc)\n",
    "\n",
    "            if np.count_nonzero(f) > 0:\n",
    "                current_weight = (df[f][\"weight\"] * df[f][\"count\"]).sum()\n",
    "                target_weight = marginal_hc_sc[hc, sc] * df[f][\"count\"].sum()\n",
    "\n",
    "                if current_weight > 0:\n",
    "                    factor = target_weight / current_weight\n",
    "                    df.loc[f, \"weight\"] *= factor\n",
    "                    \n",
    "    # Weighting of household size x socioprofessional class\n",
    "    for ac in range(4):\n",
    "        for sc in range(7):\n",
    "            f = (df[\"ac\"] == ac) & (df[\"sc\"] == sc)\n",
    "\n",
    "            if np.count_nonzero(f) > 0:\n",
    "                current_weight = (df[f][\"weight\"] * df[f][\"count\"]).sum()\n",
    "                target_weight = marginal_ac_sc[ac, sc] * df[f][\"count\"].sum()\n",
    "\n",
    "                if current_weight > 0:\n",
    "                    factor = target_weight / current_weight\n",
    "                    df.loc[f, \"weight\"] *= factor\n",
    "    \n",
    "    # Weighting of socioprofessional class\n",
    "    for sc in range(7):\n",
    "        f = df[\"sc\"] == sc\n",
    "\n",
    "        if np.count_nonzero(f) > 0:\n",
    "            current_weight = (df[f][\"weight\"] * df[f][\"count\"]).sum()\n",
    "            target_weight = marginal_sc[sc] * df[f][\"count\"].sum()\n",
    "\n",
    "            if current_weight > 0:\n",
    "                factor = target_weight / current_weight\n",
    "                df.loc[f, \"weight\"] *= factor\n",
    "                \n",
    "    # Weighting of total       \n",
    "    current_weight = (df[\"weight\"] * df[\"count\"]).sum()\n",
    "    factor = marginal_total * df[\"count\"].sum() / current_weight\n",
    "    df[\"weight\"] *= factor"
   ]
  },
  {
   "cell_type": "code",
   "execution_count": 13,
   "metadata": {},
   "outputs": [
    {
     "data": {
      "text/plain": [
       "13.999999999999998"
      ]
     },
     "execution_count": 13,
     "metadata": {},
     "output_type": "execute_result"
    }
   ],
   "source": [
    "(df[\"count\"] * df[\"weight\"]).sum() / df[\"count\"].sum() # Should be around 14"
   ]
  },
  {
   "cell_type": "markdown",
   "metadata": {},
   "source": [
    "# Generate deliveries"
   ]
  },
  {
   "cell_type": "code",
   "execution_count": 14,
   "metadata": {},
   "outputs": [],
   "source": [
    "df_deliveries = df_persons[[\"household_id\", \"ac\", \"hc\", \"sc\"]].copy()\n",
    "df_deliveries = pd.merge(df_deliveries, df)\n",
    "\n",
    "for sc, ac, hc in itertools.product(range(7), range(4), range(4)):\n",
    "    f = df_deliveries[\"sc\"] == sc\n",
    "    f &= df_deliveries[\"ac\"] == ac\n",
    "    f &= df_deliveries[\"hc\"] == hc\n",
    "    \n",
    "    if np.count_nonzero(f) > 0:\n",
    "        weight = scaling * df_deliveries[f][\"weight\"].values[0] / delivery_days\n",
    "        \n",
    "        df_deliveries.loc[f, \"orders\"] = stats.poisson(weight).rvs(np.count_nonzero(f))\n",
    "        df_deliveries.loc[f, \"packages\"] = stats.poisson(\n",
    "            weight * probability_home_delivery[sc]).rvs(np.count_nonzero(f))"
   ]
  },
  {
   "cell_type": "code",
   "execution_count": 15,
   "metadata": {},
   "outputs": [
    {
     "data": {
      "text/plain": [
       "13.966658836623964"
      ]
     },
     "execution_count": 15,
     "metadata": {},
     "output_type": "execute_result"
    }
   ],
   "source": [
    "df_deliveries[\"orders\"].sum() * delivery_days / len(df_deliveries) # Should be around 14"
   ]
  },
  {
   "cell_type": "code",
   "execution_count": 16,
   "metadata": {},
   "outputs": [
    {
     "data": {
      "text/plain": [
       "0.0    1783252\n",
       "1.0      38166\n",
       "2.0        616\n",
       "3.0          8\n",
       "Name: packages, dtype: int64"
      ]
     },
     "execution_count": 16,
     "metadata": {},
     "output_type": "execute_result"
    }
   ],
   "source": [
    "df_deliveries[\"packages\"].value_counts()"
   ]
  },
  {
   "cell_type": "code",
   "execution_count": 17,
   "metadata": {},
   "outputs": [
    {
     "data": {
      "text/html": [
       "<div>\n",
       "<style scoped>\n",
       "    .dataframe tbody tr th:only-of-type {\n",
       "        vertical-align: middle;\n",
       "    }\n",
       "\n",
       "    .dataframe tbody tr th {\n",
       "        vertical-align: top;\n",
       "    }\n",
       "\n",
       "    .dataframe thead th {\n",
       "        text-align: right;\n",
       "    }\n",
       "</style>\n",
       "<table border=\"1\" class=\"dataframe\">\n",
       "  <thead>\n",
       "    <tr style=\"text-align: right;\">\n",
       "      <th></th>\n",
       "      <th>household_id</th>\n",
       "      <th>packages</th>\n",
       "    </tr>\n",
       "  </thead>\n",
       "  <tbody>\n",
       "    <tr>\n",
       "      <th>10</th>\n",
       "      <td>262463</td>\n",
       "      <td>1.0</td>\n",
       "    </tr>\n",
       "    <tr>\n",
       "      <th>22</th>\n",
       "      <td>423110</td>\n",
       "      <td>1.0</td>\n",
       "    </tr>\n",
       "    <tr>\n",
       "      <th>28</th>\n",
       "      <td>487448</td>\n",
       "      <td>1.0</td>\n",
       "    </tr>\n",
       "    <tr>\n",
       "      <th>32</th>\n",
       "      <td>1534922</td>\n",
       "      <td>1.0</td>\n",
       "    </tr>\n",
       "    <tr>\n",
       "      <th>46</th>\n",
       "      <td>680585</td>\n",
       "      <td>1.0</td>\n",
       "    </tr>\n",
       "    <tr>\n",
       "      <th>...</th>\n",
       "      <td>...</td>\n",
       "      <td>...</td>\n",
       "    </tr>\n",
       "    <tr>\n",
       "      <th>1820526</th>\n",
       "      <td>1821949</td>\n",
       "      <td>1.0</td>\n",
       "    </tr>\n",
       "    <tr>\n",
       "      <th>1820807</th>\n",
       "      <td>1008114</td>\n",
       "      <td>1.0</td>\n",
       "    </tr>\n",
       "    <tr>\n",
       "      <th>1821612</th>\n",
       "      <td>1345753</td>\n",
       "      <td>1.0</td>\n",
       "    </tr>\n",
       "    <tr>\n",
       "      <th>1821908</th>\n",
       "      <td>63990</td>\n",
       "      <td>1.0</td>\n",
       "    </tr>\n",
       "    <tr>\n",
       "      <th>1821915</th>\n",
       "      <td>1231067</td>\n",
       "      <td>1.0</td>\n",
       "    </tr>\n",
       "  </tbody>\n",
       "</table>\n",
       "<p>38790 rows × 2 columns</p>\n",
       "</div>"
      ],
      "text/plain": [
       "         household_id  packages\n",
       "10             262463       1.0\n",
       "22             423110       1.0\n",
       "28             487448       1.0\n",
       "32            1534922       1.0\n",
       "46             680585       1.0\n",
       "...               ...       ...\n",
       "1820526       1821949       1.0\n",
       "1820807       1008114       1.0\n",
       "1821612       1345753       1.0\n",
       "1821908         63990       1.0\n",
       "1821915       1231067       1.0\n",
       "\n",
       "[38790 rows x 2 columns]"
      ]
     },
     "execution_count": 17,
     "metadata": {},
     "output_type": "execute_result"
    }
   ],
   "source": [
    "df_deliveries = df_deliveries[df_deliveries[\"packages\"] > 0]\n",
    "df_deliveries[[\"household_id\", \"packages\"]]"
   ]
  },
  {
   "cell_type": "markdown",
   "metadata": {},
   "source": [
    "# Geographic information"
   ]
  },
  {
   "cell_type": "code",
   "execution_count": 18,
   "metadata": {},
   "outputs": [],
   "source": [
    "df_spatial = gpd.read_file(\"%s/homes.gpkg\" % input_path)"
   ]
  },
  {
   "cell_type": "code",
   "execution_count": 19,
   "metadata": {},
   "outputs": [],
   "source": [
    "df_spatial = pd.merge(df_spatial, df_deliveries[[\"household_id\", \"packages\"]], on = \"household_id\")\n",
    "df_spatial.to_file(\"%s/packages.gpkg\" % output_path, driver = \"GPKG\")"
   ]
  },
  {
   "cell_type": "markdown",
   "metadata": {},
   "source": [
    "# Possible delivery times"
   ]
  },
  {
   "cell_type": "code",
   "execution_count": 20,
   "metadata": {},
   "outputs": [
    {
     "data": {
      "text/html": [
       "<div>\n",
       "<style scoped>\n",
       "    .dataframe tbody tr th:only-of-type {\n",
       "        vertical-align: middle;\n",
       "    }\n",
       "\n",
       "    .dataframe tbody tr th {\n",
       "        vertical-align: top;\n",
       "    }\n",
       "\n",
       "    .dataframe thead th {\n",
       "        text-align: right;\n",
       "    }\n",
       "</style>\n",
       "<table border=\"1\" class=\"dataframe\">\n",
       "  <thead>\n",
       "    <tr style=\"text-align: right;\">\n",
       "      <th></th>\n",
       "      <th>household_id</th>\n",
       "      <th>ac</th>\n",
       "      <th>hc</th>\n",
       "      <th>sc</th>\n",
       "      <th>count</th>\n",
       "      <th>weight</th>\n",
       "      <th>orders</th>\n",
       "      <th>packages</th>\n",
       "    </tr>\n",
       "  </thead>\n",
       "  <tbody>\n",
       "    <tr>\n",
       "      <th>10</th>\n",
       "      <td>262463</td>\n",
       "      <td>0</td>\n",
       "      <td>3</td>\n",
       "      <td>3</td>\n",
       "      <td>10215</td>\n",
       "      <td>33.758205</td>\n",
       "      <td>0.0</td>\n",
       "      <td>1.0</td>\n",
       "    </tr>\n",
       "    <tr>\n",
       "      <th>22</th>\n",
       "      <td>423110</td>\n",
       "      <td>0</td>\n",
       "      <td>3</td>\n",
       "      <td>3</td>\n",
       "      <td>10215</td>\n",
       "      <td>33.758205</td>\n",
       "      <td>0.0</td>\n",
       "      <td>1.0</td>\n",
       "    </tr>\n",
       "    <tr>\n",
       "      <th>28</th>\n",
       "      <td>487448</td>\n",
       "      <td>0</td>\n",
       "      <td>3</td>\n",
       "      <td>3</td>\n",
       "      <td>10215</td>\n",
       "      <td>33.758205</td>\n",
       "      <td>0.0</td>\n",
       "      <td>1.0</td>\n",
       "    </tr>\n",
       "    <tr>\n",
       "      <th>32</th>\n",
       "      <td>1534922</td>\n",
       "      <td>0</td>\n",
       "      <td>3</td>\n",
       "      <td>3</td>\n",
       "      <td>10215</td>\n",
       "      <td>33.758205</td>\n",
       "      <td>1.0</td>\n",
       "      <td>1.0</td>\n",
       "    </tr>\n",
       "    <tr>\n",
       "      <th>46</th>\n",
       "      <td>680585</td>\n",
       "      <td>0</td>\n",
       "      <td>3</td>\n",
       "      <td>3</td>\n",
       "      <td>10215</td>\n",
       "      <td>33.758205</td>\n",
       "      <td>0.0</td>\n",
       "      <td>1.0</td>\n",
       "    </tr>\n",
       "    <tr>\n",
       "      <th>...</th>\n",
       "      <td>...</td>\n",
       "      <td>...</td>\n",
       "      <td>...</td>\n",
       "      <td>...</td>\n",
       "      <td>...</td>\n",
       "      <td>...</td>\n",
       "      <td>...</td>\n",
       "      <td>...</td>\n",
       "    </tr>\n",
       "    <tr>\n",
       "      <th>1820526</th>\n",
       "      <td>1821949</td>\n",
       "      <td>3</td>\n",
       "      <td>0</td>\n",
       "      <td>1</td>\n",
       "      <td>1769</td>\n",
       "      <td>5.965565</td>\n",
       "      <td>0.0</td>\n",
       "      <td>1.0</td>\n",
       "    </tr>\n",
       "    <tr>\n",
       "      <th>1820807</th>\n",
       "      <td>1008114</td>\n",
       "      <td>3</td>\n",
       "      <td>0</td>\n",
       "      <td>1</td>\n",
       "      <td>1769</td>\n",
       "      <td>5.965565</td>\n",
       "      <td>0.0</td>\n",
       "      <td>1.0</td>\n",
       "    </tr>\n",
       "    <tr>\n",
       "      <th>1821612</th>\n",
       "      <td>1345753</td>\n",
       "      <td>3</td>\n",
       "      <td>2</td>\n",
       "      <td>1</td>\n",
       "      <td>161</td>\n",
       "      <td>13.360030</td>\n",
       "      <td>0.0</td>\n",
       "      <td>1.0</td>\n",
       "    </tr>\n",
       "    <tr>\n",
       "      <th>1821908</th>\n",
       "      <td>63990</td>\n",
       "      <td>3</td>\n",
       "      <td>3</td>\n",
       "      <td>1</td>\n",
       "      <td>57</td>\n",
       "      <td>14.488899</td>\n",
       "      <td>0.0</td>\n",
       "      <td>1.0</td>\n",
       "    </tr>\n",
       "    <tr>\n",
       "      <th>1821915</th>\n",
       "      <td>1231067</td>\n",
       "      <td>3</td>\n",
       "      <td>3</td>\n",
       "      <td>1</td>\n",
       "      <td>57</td>\n",
       "      <td>14.488899</td>\n",
       "      <td>0.0</td>\n",
       "      <td>1.0</td>\n",
       "    </tr>\n",
       "  </tbody>\n",
       "</table>\n",
       "<p>38790 rows × 8 columns</p>\n",
       "</div>"
      ],
      "text/plain": [
       "         household_id  ac  hc  sc  count     weight  orders  packages\n",
       "10             262463   0   3   3  10215  33.758205     0.0       1.0\n",
       "22             423110   0   3   3  10215  33.758205     0.0       1.0\n",
       "28             487448   0   3   3  10215  33.758205     0.0       1.0\n",
       "32            1534922   0   3   3  10215  33.758205     1.0       1.0\n",
       "46             680585   0   3   3  10215  33.758205     0.0       1.0\n",
       "...               ...  ..  ..  ..    ...        ...     ...       ...\n",
       "1820526       1821949   3   0   1   1769   5.965565     0.0       1.0\n",
       "1820807       1008114   3   0   1   1769   5.965565     0.0       1.0\n",
       "1821612       1345753   3   2   1    161  13.360030     0.0       1.0\n",
       "1821908         63990   3   3   1     57  14.488899     0.0       1.0\n",
       "1821915       1231067   3   3   1     57  14.488899     0.0       1.0\n",
       "\n",
       "[38790 rows x 8 columns]"
      ]
     },
     "execution_count": 20,
     "metadata": {},
     "output_type": "execute_result"
    }
   ],
   "source": [
    "df_deliveries"
   ]
  },
  {
   "cell_type": "code",
   "execution_count": 32,
   "metadata": {},
   "outputs": [],
   "source": [
    "df_activities = pd.read_csv(\"%s/activities.csv\" % input_path, sep = \";\")\n",
    "\n",
    "df_activities = df_activities[\n",
    "    df_activities[\"purpose\"] == \"home\"\n",
    "]\n",
    "\n",
    "df_activities = df_activities[\n",
    "    df_activities[\"household_id\"].isin(df_deliveries[\"household_id\"])\n",
    "]\n",
    "\n",
    "df_activities[\"start_time\"] = df_activities[\"start_time\"].fillna(0.0)\n",
    "df_activities[\"end_time\"] = df_activities[\"end_time\"].fillna(30.0 * 3600.0)"
   ]
  },
  {
   "cell_type": "code",
   "execution_count": 33,
   "metadata": {},
   "outputs": [],
   "source": [
    "df_activities = df_activities[\n",
    "    df_activities[\"person_id\"].isin(df_persons[df_persons[\"age\"] >= 14][\"person_id\"].unique())\n",
    "]\n",
    "\n",
    "df_activities[\"start_time\"] = np.maximum(df_activities[\"start_time\"], earliest_delivery_time)\n",
    "df_activities[\"end_time\"] = np.minimum(df_activities[\"end_time\"], latest_delivery_time)\n",
    "\n",
    "df_activities = df_activities[df_activities[\"end_time\"] - df_activities[\"start_time\"] > 0]"
   ]
  },
  {
   "cell_type": "code",
   "execution_count": 34,
   "metadata": {},
   "outputs": [
    {
     "data": {
      "application/vnd.jupyter.widget-view+json": {
       "model_id": "ef38e6d2579e46d58dee01679b19a4a0",
       "version_major": 2,
       "version_minor": 0
      },
      "text/plain": [
       "HBox(children=(HTML(value=''), FloatProgress(value=0.0, max=96.0), HTML(value='')))"
      ]
     },
     "metadata": {},
     "output_type": "display_data"
    },
    {
     "name": "stdout",
     "output_type": "stream",
     "text": [
      "\n"
     ]
    }
   ],
   "source": [
    "import tqdm.notebook as tqdm\n",
    "\n",
    "times = np.arange(3 * 4, 27 * 4) * 3600.0 / 4.0\n",
    "availability = []\n",
    "\n",
    "for t in tqdm.tqdm(times):\n",
    "    availability.append(len(df_activities[\n",
    "        (df_activities[\"start_time\"] <= t) &\n",
    "        (df_activities[\"end_time\"] > t)\n",
    "    ].drop_duplicates(\"household_id\")))"
   ]
  },
  {
   "cell_type": "code",
   "execution_count": 41,
   "metadata": {},
   "outputs": [
    {
     "data": {
      "image/png": "[encoded data removed]",
      "text/plain": [
       "<Figure size 1800x900 with 1 Axes>"
      ]
     },
     "metadata": {
      "needs_background": "light"
     },
     "output_type": "display_data"
    }
   ],
   "source": [
    "import matplotlib.pyplot as plt\n",
    "plt.figure(figsize = (6, 3), dpi = 300)\n",
    "\n",
    "plt.step(\n",
    "    times / 3600, 100 * np.array(availability) / len(df_deliveries),\n",
    "    color = \"#007be5\"\n",
    ")\n",
    "\n",
    "plt.xlabel(\"Hour of day\")\n",
    "plt.xlim([6, 23.5])\n",
    "plt.ylabel(\"Available households [%]\")\n",
    "\n",
    "plt.grid()\n",
    "plt.tight_layout()\n",
    "plt.savefig(\"slots.pdf\")"
   ]
  },
  {
   "cell_type": "code",
   "execution_count": null,
   "metadata": {},
   "outputs": [],
   "source": [
    "df_slots = df_activities[[\"household_id\", \"start_time\", \"end_time\"]]\n",
    "df_slots = pd.merge(df_spatial, df_slots, on = \"household_id\")\n",
    "\n",
    "df_slots[\"x\"] = df_slots[\"geometry\"].x\n",
    "df_slots[\"y\"] = df_slots[\"geometry\"].y\n",
    "\n",
    "df_slots = df_slots[[\"household_id\", \"start_time\", \"end_time\", \"x\", \"y\", \"packages\"]]"
   ]
  },
  {
   "cell_type": "code",
   "execution_count": null,
   "metadata": {},
   "outputs": [],
   "source": [
    "df_slots.to_csv(\"%s/slots.csv\" % output_path, sep = \";\", index = False)"
   ]
  },
  {
   "cell_type": "markdown",
   "metadata": {},
   "source": [
    "# Plotting"
   ]
  },
  {
   "cell_type": "code",
   "execution_count": null,
   "metadata": {},
   "outputs": [],
   "source": [
    "import matplotlib.pyplot as plt\n",
    "import matplotlib.ticker as tck\n",
    "%matplotlib inline"
   ]
  },
  {
   "cell_type": "code",
   "execution_count": null,
   "metadata": {},
   "outputs": [],
   "source": [
    "age_class_labels = [\"18-34\", \"35-49\", \"50-64\", \"65+\"]\n",
    "sc_class_labels = [\"CE/Artis/Com\", \"Cadre\", \"Prof Int\", \"Employé\", \"Ouvrier\", \"Retraité\", \"Sans Act\"]\n",
    "household_size_class_labels = [\"1\", \"3\", \"3\", \"4+\"]"
   ]
  },
  {
   "cell_type": "code",
   "execution_count": null,
   "metadata": {},
   "outputs": [],
   "source": [
    "plt.figure(figsize = (6, 3), dpi = 300)\n",
    "\n",
    "plt.bar(\n",
    "    np.arange(len(marginal_sc)),\n",
    "    marginal_sc,\n",
    "    color = \"#007be5\"\n",
    ")\n",
    "\n",
    "plt.gca().set_axisbelow(True)\n",
    "plt.grid()\n",
    "\n",
    "plt.gca().xaxis.set_major_locator(tck.FixedLocator(np.arange(7)))\n",
    "plt.gca().xaxis.set_major_formatter(tck.FuncFormatter(lambda x, k: sc_class_labels[int(x)]))\n",
    "\n",
    "plt.xticks(rotation = 45)\n",
    "\n",
    "plt.ylabel(\"Purchases per year\")"
   ]
  },
  {
   "cell_type": "code",
   "execution_count": null,
   "metadata": {},
   "outputs": [],
   "source": [
    "plt.figure(figsize = (6, 3), dpi = 300)\n",
    "plt.imshow(marginal_ac_sc, cmap = \"Greys\")\n",
    "\n",
    "for i in range(marginal_ac_sc.shape[0]):\n",
    "    for j in range(marginal_ac_sc.shape[1]):\n",
    "        color = \"k\"\n",
    "        \n",
    "        if i == 0 and j == 0:\n",
    "            color = \"w\"\n",
    "        \n",
    "        plt.text(j, i, marginal_ac_sc[i,j], ha = \"center\", va = \"center\", color = color)\n",
    "        \n",
    "plt.gca().xaxis.set_major_formatter(tck.FuncFormatter(lambda x, k: k))\n",
    "        \n",
    "plt.ylabel(\"Age class\")\n",
    "\n",
    "plt.gca().xaxis.set_major_locator(tck.FixedLocator(np.arange(7)))\n",
    "plt.gca().xaxis.set_major_formatter(tck.FuncFormatter(lambda x, k: sc_class_labels[int(x)]))\n",
    "\n",
    "plt.gca().yaxis.set_major_locator(tck.FixedLocator(np.arange(4)))\n",
    "plt.gca().yaxis.set_major_formatter(tck.FuncFormatter(lambda x, k: age_class_labels[int(x)]))\n",
    "\n",
    "plt.xticks(rotation = 45)\n",
    "plt.ylabel(\"Age\")\n",
    "\n",
    "plt.title(\"Purchases per year\")"
   ]
  },
  {
   "cell_type": "code",
   "execution_count": null,
   "metadata": {},
   "outputs": [],
   "source": [
    "plt.figure(figsize = (6, 3), dpi = 300)\n",
    "plt.imshow(marginal_hc_sc, cmap = \"Greys\")\n",
    "\n",
    "for i in range(marginal_hc_sc.shape[0]):\n",
    "    for j in range(marginal_hc_sc.shape[1]):\n",
    "        color = \"k\"\n",
    "        \n",
    "        if marginal_hc_sc[i,j] > 20:\n",
    "            color = \"w\"\n",
    "        \n",
    "        plt.text(j, i, marginal_hc_sc[i,j], ha = \"center\", va = \"center\", color = color)\n",
    "        \n",
    "plt.gca().xaxis.set_major_formatter(tck.FuncFormatter(lambda x, k: k))\n",
    "        \n",
    "plt.ylabel(\"Household size\")\n",
    "\n",
    "plt.gca().xaxis.set_major_locator(tck.FixedLocator(np.arange(7)))\n",
    "plt.gca().xaxis.set_major_formatter(tck.FuncFormatter(lambda x, k: sc_class_labels[int(x)]))\n",
    "\n",
    "plt.gca().yaxis.set_major_locator(tck.FixedLocator(np.arange(4)))\n",
    "plt.gca().yaxis.set_major_formatter(tck.FuncFormatter(lambda x, k: household_size_class_labels[int(x)]))\n",
    "\n",
    "plt.xticks(rotation = 45)\n",
    "\n",
    "plt.title(\"Purchases per year\")"
   ]
  },
  {
   "cell_type": "code",
   "execution_count": null,
   "metadata": {},
   "outputs": [],
   "source": [
    "plt.figure(figsize = (6, 3), dpi = 300)\n",
    "\n",
    "plt.bar(\n",
    "    np.arange(len(marginal_sc)),\n",
    "    probability_home_delivery,\n",
    "    color = \"#007be5\"\n",
    ")\n",
    "\n",
    "plt.gca().set_axisbelow(True)\n",
    "plt.grid()\n",
    "\n",
    "plt.gca().xaxis.set_major_locator(tck.FixedLocator(np.arange(7)))\n",
    "plt.gca().xaxis.set_major_formatter(tck.FuncFormatter(lambda x, k: sc_class_labels[int(x)]))\n",
    "\n",
    "plt.xticks(rotation = 45)\n",
    "\n",
    "plt.ylabel(\"Home delivery probability\")"
   ]
  },
  {
   "cell_type": "code",
   "execution_count": null,
   "metadata": {},
   "outputs": [],
   "source": [
    "# LAD by household size class and socioprofessional class (Figure 29)\n",
    "\n",
    "marginal_hc_sc = np.array([\n",
    "    [4, 12, 9, 14, 10, 5, 5],\n",
    "    [27, 18, 15, 4, 16, 6, 13],\n",
    "    [24, 26, 22, 6, 12, 10, 22],\n",
    "    [30, 29, 22, 15, 29, 16, 17],\n",
    "])\n",
    "\n",
    "# LAD by age class and socioprofessional class (Figure 30)\n",
    "\n",
    "marginal_ac_sc = np.array([\n",
    "    [45, 29, 21, 18, 20, 0, 18],\n",
    "    [30, 29, 19, 14, 22, 0, 11],\n",
    "    [14, 17, 10, 5, 16, 12, 9],\n",
    "    [12, 9, 0, 0, 0, 5, 2],\n",
    "])\n",
    "\n",
    "# LAD by socioprofessional class (Table 8)\n",
    "\n",
    "marginal_sc = np.array([\n",
    "    23.51, 21.19, 19.08, 15.15, 10.31, 9.77, 6.11\n",
    "])\n",
    "\n",
    "# Home delivery by socioprofessional class (Table 8)\n",
    "\n",
    "probability_home_delivery = np.array([\n",
    "    53.2, 46.8, 40.7, 49.1, 26.3, 56.5, 70.2\n",
    "]) * 1e-2\n",
    "\n",
    "# Total number of orders per year\n",
    "marginal_total = 14.0"
   ]
  }
 ],
 "metadata": {
  "celltoolbar": "Tags",
  "kernelspec": {
   "display_name": "Python 3",
   "language": "python",
   "name": "python3"
  },
  "language_info": {
   "codemirror_mode": {
    "name": "ipython",
    "version": 3
   },
   "file_extension": ".py",
   "mimetype": "text/x-python",
   "name": "python",
   "nbconvert_exporter": "python",
   "pygments_lexer": "ipython3",
   "version": "3.8.10"
  }
 },
 "nbformat": 4,
 "nbformat_minor": 4
}
