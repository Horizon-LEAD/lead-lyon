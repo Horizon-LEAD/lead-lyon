{
 "cells": [
  {
   "cell_type": "code",
   "execution_count": 4,
   "metadata": {},
   "outputs": [],
   "source": [
    "import numpy as np\n",
    "import matplotlib.pyplot as plt\n",
    "import geopandas as gpd\n",
    "import pandas as pd\n",
    "import shapely.geometry as geo\n",
    "%matplotlib inline"
   ]
  },
  {
   "cell_type": "code",
   "execution_count": 5,
   "metadata": {},
   "outputs": [],
   "source": [
    "df_locations = gpd.GeoDataFrame(pd.DataFrame.from_records([\n",
    "    { \"shipper\": \"ups\", \"group\": \"ups\", \"weight\": 0.29, \"geometry\": geo.Point(5.034905955589027, 45.78119473749373), \"entry\": \"gallieni\" },\n",
    "    { \"shipper\": \"dhl\", \"group\": \"dhl\", \"weight\": 0.26, \"geometry\": geo.Point(4.835477412699162, 45.74270187856734), \"entry\": \"gallieni\" },\n",
    "    { \"shipper\": \"tnt\", \"group\": \"tnt_fedex\", \"weight\": 0.17, \"geometry\": geo.Point(4.835364116952918, 45.70001283613506), \"entry\": \"pasteur\" },\n",
    "    { \"shipper\": \"fedex\", \"group\": \"tnt_fedex\", \"weight\": 0.19, \"geometry\": geo.Point(4.835364116952918, 45.70001283613506), \"entry\": \"pasteur\" },\n",
    "    { \"shipper\": \"dpd\", \"group\": \"dpd\", \"weight\": 0.11, \"geometry\": geo.Point(4.922786601051284, 45.68237268577265), \"entry\": \"pasteur\" },\n",
    "    { \"shipper\": \"chronopost\", \"group\": \"dpd\", \"weight\": 0.56, \"geometry\": geo.Point(4.922786601051284, 45.68237268577265), \"entry\": \"pasteur\" },\n",
    "    { \"shipper\": \"colissimo\", \"group\": \"poste\", \"weight\": 0.59, \"geometry\": geo.Point(4.818488791793341, 45.74302244929052), \"entry\": \"riboud\" },\n",
    "    { \"shipper\": \"delivengo\", \"group\": \"poste\", \"weight\": 0.04, \"geometry\": geo.Point(4.818488791793341, 45.74302244929052), \"entry\": \"riboud\" }\n",
    "]), crs = \"EPSG:4326\").to_crs(\"EPSG:2154\")\n",
    "\n",
    "df_locations.to_file(\"output/services.gpkg\", driver = \"GPKG\")"
   ]
  }
 ],
 "metadata": {
  "kernelspec": {
   "display_name": "Python 3",
   "language": "python",
   "name": "python3"
  },
  "language_info": {
   "codemirror_mode": {
    "name": "ipython",
    "version": 3
   },
   "file_extension": ".py",
   "mimetype": "text/x-python",
   "name": "python",
   "nbconvert_exporter": "python",
   "pygments_lexer": "ipython3",
   "version": "3.8.10"
  }
 },
 "nbformat": 4,
 "nbformat_minor": 5
}
