{
 "cells": [
  {
   "cell_type": "code",
   "execution_count": 1,
   "metadata": {
    "tags": [
     "parameters"
    ]
   },
   "outputs": [],
   "source": [
    "demand_path = \"input\"\n",
    "output_path = \"output\"\n",
    "\n",
    "seed = 0\n",
    "suffix = \"\""
   ]
  },
  {
   "cell_type": "code",
   "execution_count": 2,
   "metadata": {},
   "outputs": [
    {
     "name": "stderr",
     "output_type": "stream",
     "text": [
      "/home/shoerl/anaconda3/envs/lead_lyon/lib/python3.8/site-packages/geopandas/_compat.py:106: UserWarning: The Shapely GEOS version (3.8.0-CAPI-1.13.1 ) is incompatible with the GEOS version PyGEOS was compiled with (3.9.1-CAPI-1.14.2). Conversions between both will be slow.\n",
      "  warnings.warn(\n"
     ]
    }
   ],
   "source": [
    "import numpy as np\n",
    "import pandas as pd\n",
    "from tqdm.notebook import tqdm\n",
    "import itertools\n",
    "import geopandas as gpd\n",
    "import os"
   ]
  },
  {
   "cell_type": "code",
   "execution_count": 3,
   "metadata": {},
   "outputs": [],
   "source": [
    "assert os.path.exists(\"%s/confluence_areas.gpkg\" % demand_path)\n",
    "assert os.path.exists(\"%s/vrp_network.gpkg\" % output_path)\n",
    "assert os.path.exists(\"%s/vrp_nodes.gpkg\" % output_path)\n",
    "assert os.path.exists(\"%s/services.gpkg\" % output_path)\n",
    "\n",
    "assert os.path.exists(\"%s/slots.csv\" % output_path)\n",
    "assert os.path.exists(\"%s/homes.gpkg\" % demand_path)"
   ]
  },
  {
   "cell_type": "markdown",
   "metadata": {},
   "source": [
    "# Relevant information"
   ]
  },
  {
   "cell_type": "code",
   "execution_count": 4,
   "metadata": {},
   "outputs": [],
   "source": [
    "df_spatial = gpd.read_file(\"%s/homes.gpkg\" % demand_path)"
   ]
  },
  {
   "cell_type": "code",
   "execution_count": 5,
   "metadata": {},
   "outputs": [],
   "source": [
    "df_slots = pd.read_csv(\"%s/slots%s.csv\" % (output_path, suffix), sep = \";\")"
   ]
  },
  {
   "cell_type": "markdown",
   "metadata": {},
   "source": [
    "# Filter Confluence households"
   ]
  },
  {
   "cell_type": "code",
   "execution_count": 6,
   "metadata": {},
   "outputs": [],
   "source": [
    "confluence_households = gpd.sjoin(\n",
    "    df_spatial,\n",
    "    gpd.read_file(\"%s/confluence_areas.gpkg\" % demand_path),\n",
    "    op = \"within\"\n",
    ")[\"household_id\"].unique()"
   ]
  },
  {
   "cell_type": "code",
   "execution_count": 7,
   "metadata": {},
   "outputs": [],
   "source": [
    "df_confluence = df_slots[df_slots[\"household_id\"].isin(confluence_households)]"
   ]
  },
  {
   "cell_type": "code",
   "execution_count": 8,
   "metadata": {},
   "outputs": [],
   "source": [
    "df_nodes = gpd.read_file(\"output/vrp_nodes.gpkg\")"
   ]
  },
  {
   "cell_type": "code",
   "execution_count": 9,
   "metadata": {},
   "outputs": [],
   "source": [
    "# Find household nodes\n",
    "import sklearn\n",
    "import sklearn.neighbors\n",
    "\n",
    "node_index = sklearn.neighbors.KDTree(\n",
    "    np.vstack([df_nodes[\"geometry\"].x.values, df_nodes[\"geometry\"].y.values]).T\n",
    ")\n",
    "\n",
    "df_households = df_slots.drop_duplicates(\"household_id\")[[\"household_id\", \"x\", \"y\"]]\n",
    "\n",
    "df_households[\"location_id\"] = df_nodes.iloc[node_index.query(\n",
    "    np.vstack([df_households[\"x\"].values, df_households[\"y\"].values]).T\n",
    ")[1].flatten()][\"id\"].values"
   ]
  },
  {
   "cell_type": "code",
   "execution_count": 10,
   "metadata": {},
   "outputs": [],
   "source": [
    "df_deliveries = pd.merge(df_confluence, df_households[[\"household_id\", \"location_id\"]])\n",
    "\n",
    "df_deliveries.to_csv(\n",
    "    \"%s/vrp_deliveries%s.csv\" % (output_path, suffix), sep = \";\"\n",
    ")"
   ]
  },
  {
   "cell_type": "code",
   "execution_count": 11,
   "metadata": {},
   "outputs": [
    {
     "data": {
      "text/plain": [
       "287"
      ]
     },
     "execution_count": 11,
     "metadata": {},
     "output_type": "execute_result"
    }
   ],
   "source": [
    "len(df_deliveries)"
   ]
  },
  {
   "cell_type": "markdown",
   "metadata": {},
   "source": [
    "## By Operator"
   ]
  },
  {
   "cell_type": "code",
   "execution_count": 17,
   "metadata": {},
   "outputs": [],
   "source": [
    "df_services = gpd.read_file(\"output/services.gpkg\")\n",
    "df_services = df_services.groupby(\"group\").aggregate({\n",
    "    \"weight\": \"sum\",\n",
    "    \"geometry\": \"first\",\n",
    "    \"entry\": \"first\"\n",
    "}).reset_index()\n",
    "df_services[\"share\"] = df_services[\"weight\"] / df_services[\"weight\"].sum()"
   ]
  },
  {
   "cell_type": "code",
   "execution_count": 20,
   "metadata": {},
   "outputs": [
    {
     "data": {
      "text/html": [
       "<div>\n",
       "<style scoped>\n",
       "    .dataframe tbody tr th:only-of-type {\n",
       "        vertical-align: middle;\n",
       "    }\n",
       "\n",
       "    .dataframe tbody tr th {\n",
       "        vertical-align: top;\n",
       "    }\n",
       "\n",
       "    .dataframe thead th {\n",
       "        text-align: right;\n",
       "    }\n",
       "</style>\n",
       "<table border=\"1\" class=\"dataframe\">\n",
       "  <thead>\n",
       "    <tr style=\"text-align: right;\">\n",
       "      <th></th>\n",
       "      <th>group</th>\n",
       "      <th>weight</th>\n",
       "      <th>geometry</th>\n",
       "      <th>entry</th>\n",
       "      <th>share</th>\n",
       "    </tr>\n",
       "  </thead>\n",
       "  <tbody>\n",
       "    <tr>\n",
       "      <th>0</th>\n",
       "      <td>dhl</td>\n",
       "      <td>0.26</td>\n",
       "      <td>POINT (842704.337 6517559.429)</td>\n",
       "      <td>gallieni</td>\n",
       "      <td>0.117647</td>\n",
       "    </tr>\n",
       "    <tr>\n",
       "      <th>1</th>\n",
       "      <td>dpd</td>\n",
       "      <td>0.67</td>\n",
       "      <td>POINT (849654.247 6511023.329)</td>\n",
       "      <td>pasteur</td>\n",
       "      <td>0.303167</td>\n",
       "    </tr>\n",
       "    <tr>\n",
       "      <th>2</th>\n",
       "      <td>poste</td>\n",
       "      <td>0.63</td>\n",
       "      <td>POINT (841382.924 6517564.458)</td>\n",
       "      <td>riboud</td>\n",
       "      <td>0.285068</td>\n",
       "    </tr>\n",
       "    <tr>\n",
       "      <th>3</th>\n",
       "      <td>tnt_fedex</td>\n",
       "      <td>0.36</td>\n",
       "      <td>POINT (842805.709 6512819.840)</td>\n",
       "      <td>pasteur</td>\n",
       "      <td>0.162896</td>\n",
       "    </tr>\n",
       "    <tr>\n",
       "      <th>4</th>\n",
       "      <td>ups</td>\n",
       "      <td>0.29</td>\n",
       "      <td>POINT (858096.055 6522212.665)</td>\n",
       "      <td>gallieni</td>\n",
       "      <td>0.131222</td>\n",
       "    </tr>\n",
       "  </tbody>\n",
       "</table>\n",
       "</div>"
      ],
      "text/plain": [
       "       group  weight                        geometry     entry     share\n",
       "0        dhl    0.26  POINT (842704.337 6517559.429)  gallieni  0.117647\n",
       "1        dpd    0.67  POINT (849654.247 6511023.329)   pasteur  0.303167\n",
       "2      poste    0.63  POINT (841382.924 6517564.458)    riboud  0.285068\n",
       "3  tnt_fedex    0.36  POINT (842805.709 6512819.840)   pasteur  0.162896\n",
       "4        ups    0.29  POINT (858096.055 6522212.665)  gallieni  0.131222"
      ]
     },
     "execution_count": 20,
     "metadata": {},
     "output_type": "execute_result"
    }
   ],
   "source": [
    "df_services"
   ]
  },
  {
   "cell_type": "code",
   "execution_count": 30,
   "metadata": {},
   "outputs": [],
   "source": [
    "df_deliveries = df_deliveries.drop_duplicates(\"household_id\").copy()"
   ]
  },
  {
   "cell_type": "code",
   "execution_count": 31,
   "metadata": {},
   "outputs": [],
   "source": [
    "cdf = np.cumsum(df_services[\"share\"])\n",
    "names = df_services[\"group\"]\n",
    "\n",
    "random = np.random.RandomState(seed)\n",
    "selection = [np.count_nonzero(cdf < r) for r in random.random(len(df_deliveries))]\n",
    "\n",
    "df_deliveries[\"group\"] = names.iloc[selection].values"
   ]
  },
  {
   "cell_type": "code",
   "execution_count": 32,
   "metadata": {},
   "outputs": [],
   "source": [
    "df_morning = df_deliveries.copy()\n",
    "df_morning[\"start_time\"] = 8 * 3600\n",
    "df_morning[\"end_time\"] = 12 * 3600\n",
    "\n",
    "df_evening = df_deliveries.copy()\n",
    "df_evening[\"start_time\"] = 13 * 3600\n",
    "df_evening[\"end_time\"] = 16 * 3600\n",
    "\n",
    "df_deliveries = pd.concat([df_morning, df_evening])"
   ]
  },
  {
   "cell_type": "code",
   "execution_count": 33,
   "metadata": {},
   "outputs": [],
   "source": [
    "for group in df_services[\"group\"].unique():\n",
    "    df_deliveries[\n",
    "        df_deliveries[\"group\"] == group\n",
    "    ].to_csv(\"output/deliveries_for_%s%s.csv\" % (group, suffix), sep = \";\")"
   ]
  },
  {
   "cell_type": "code",
   "execution_count": 34,
   "metadata": {},
   "outputs": [
    {
     "data": {
      "text/html": [
       "<div>\n",
       "<style scoped>\n",
       "    .dataframe tbody tr th:only-of-type {\n",
       "        vertical-align: middle;\n",
       "    }\n",
       "\n",
       "    .dataframe tbody tr th {\n",
       "        vertical-align: top;\n",
       "    }\n",
       "\n",
       "    .dataframe thead th {\n",
       "        text-align: right;\n",
       "    }\n",
       "</style>\n",
       "<table border=\"1\" class=\"dataframe\">\n",
       "  <thead>\n",
       "    <tr style=\"text-align: right;\">\n",
       "      <th></th>\n",
       "      <th>household_id</th>\n",
       "      <th>start_time</th>\n",
       "      <th>end_time</th>\n",
       "      <th>x</th>\n",
       "      <th>y</th>\n",
       "      <th>packages</th>\n",
       "      <th>location_id</th>\n",
       "      <th>shipper</th>\n",
       "      <th>group</th>\n",
       "    </tr>\n",
       "  </thead>\n",
       "  <tbody>\n",
       "    <tr>\n",
       "      <th>0</th>\n",
       "      <td>1283558</td>\n",
       "      <td>28800</td>\n",
       "      <td>43200</td>\n",
       "      <td>841385.51476</td>\n",
       "      <td>6.517618e+06</td>\n",
       "      <td>1.0</td>\n",
       "      <td>5947881169</td>\n",
       "      <td>poste</td>\n",
       "      <td>poste</td>\n",
       "    </tr>\n",
       "    <tr>\n",
       "      <th>2</th>\n",
       "      <td>1289405</td>\n",
       "      <td>28800</td>\n",
       "      <td>43200</td>\n",
       "      <td>842083.35000</td>\n",
       "      <td>6.518032e+06</td>\n",
       "      <td>1.0</td>\n",
       "      <td>5947847646</td>\n",
       "      <td>poste</td>\n",
       "      <td>tnt_fedex</td>\n",
       "    </tr>\n",
       "    <tr>\n",
       "      <th>3</th>\n",
       "      <td>1292948</td>\n",
       "      <td>28800</td>\n",
       "      <td>43200</td>\n",
       "      <td>841602.17000</td>\n",
       "      <td>6.517852e+06</td>\n",
       "      <td>1.0</td>\n",
       "      <td>5324491691</td>\n",
       "      <td>poste</td>\n",
       "      <td>poste</td>\n",
       "    </tr>\n",
       "    <tr>\n",
       "      <th>6</th>\n",
       "      <td>1308705</td>\n",
       "      <td>28800</td>\n",
       "      <td>43200</td>\n",
       "      <td>841176.50000</td>\n",
       "      <td>6.517576e+06</td>\n",
       "      <td>1.0</td>\n",
       "      <td>6175361290</td>\n",
       "      <td>poste</td>\n",
       "      <td>poste</td>\n",
       "    </tr>\n",
       "    <tr>\n",
       "      <th>7</th>\n",
       "      <td>1322815</td>\n",
       "      <td>28800</td>\n",
       "      <td>43200</td>\n",
       "      <td>841416.78000</td>\n",
       "      <td>6.518074e+06</td>\n",
       "      <td>1.0</td>\n",
       "      <td>7017492270</td>\n",
       "      <td>ups</td>\n",
       "      <td>poste</td>\n",
       "    </tr>\n",
       "    <tr>\n",
       "      <th>...</th>\n",
       "      <td>...</td>\n",
       "      <td>...</td>\n",
       "      <td>...</td>\n",
       "      <td>...</td>\n",
       "      <td>...</td>\n",
       "      <td>...</td>\n",
       "      <td>...</td>\n",
       "      <td>...</td>\n",
       "      <td>...</td>\n",
       "    </tr>\n",
       "    <tr>\n",
       "      <th>207</th>\n",
       "      <td>1340401</td>\n",
       "      <td>46800</td>\n",
       "      <td>57600</td>\n",
       "      <td>841523.90000</td>\n",
       "      <td>6.517839e+06</td>\n",
       "      <td>1.0</td>\n",
       "      <td>6921021581</td>\n",
       "      <td>poste</td>\n",
       "      <td>poste</td>\n",
       "    </tr>\n",
       "    <tr>\n",
       "      <th>208</th>\n",
       "      <td>1667428</td>\n",
       "      <td>46800</td>\n",
       "      <td>57600</td>\n",
       "      <td>841382.60000</td>\n",
       "      <td>6.517588e+06</td>\n",
       "      <td>1.0</td>\n",
       "      <td>5947881169</td>\n",
       "      <td>poste</td>\n",
       "      <td>dhl</td>\n",
       "    </tr>\n",
       "    <tr>\n",
       "      <th>209</th>\n",
       "      <td>1310484</td>\n",
       "      <td>46800</td>\n",
       "      <td>57600</td>\n",
       "      <td>841896.20000</td>\n",
       "      <td>6.517896e+06</td>\n",
       "      <td>1.0</td>\n",
       "      <td>4574272249</td>\n",
       "      <td>ups</td>\n",
       "      <td>tnt_fedex</td>\n",
       "    </tr>\n",
       "    <tr>\n",
       "      <th>210</th>\n",
       "      <td>1975699</td>\n",
       "      <td>46800</td>\n",
       "      <td>57600</td>\n",
       "      <td>841664.51000</td>\n",
       "      <td>6.518090e+06</td>\n",
       "      <td>1.0</td>\n",
       "      <td>6970402894</td>\n",
       "      <td>ups</td>\n",
       "      <td>dhl</td>\n",
       "    </tr>\n",
       "    <tr>\n",
       "      <th>211</th>\n",
       "      <td>1441292</td>\n",
       "      <td>46800</td>\n",
       "      <td>57600</td>\n",
       "      <td>841727.20000</td>\n",
       "      <td>6.518012e+06</td>\n",
       "      <td>1.0</td>\n",
       "      <td>2244092199</td>\n",
       "      <td>dpd</td>\n",
       "      <td>poste</td>\n",
       "    </tr>\n",
       "  </tbody>\n",
       "</table>\n",
       "<p>202 rows × 9 columns</p>\n",
       "</div>"
      ],
      "text/plain": [
       "     household_id  start_time  end_time             x             y  packages  \\\n",
       "0         1283558       28800     43200  841385.51476  6.517618e+06       1.0   \n",
       "2         1289405       28800     43200  842083.35000  6.518032e+06       1.0   \n",
       "3         1292948       28800     43200  841602.17000  6.517852e+06       1.0   \n",
       "6         1308705       28800     43200  841176.50000  6.517576e+06       1.0   \n",
       "7         1322815       28800     43200  841416.78000  6.518074e+06       1.0   \n",
       "..            ...         ...       ...           ...           ...       ...   \n",
       "207       1340401       46800     57600  841523.90000  6.517839e+06       1.0   \n",
       "208       1667428       46800     57600  841382.60000  6.517588e+06       1.0   \n",
       "209       1310484       46800     57600  841896.20000  6.517896e+06       1.0   \n",
       "210       1975699       46800     57600  841664.51000  6.518090e+06       1.0   \n",
       "211       1441292       46800     57600  841727.20000  6.518012e+06       1.0   \n",
       "\n",
       "     location_id shipper      group  \n",
       "0     5947881169   poste      poste  \n",
       "2     5947847646   poste  tnt_fedex  \n",
       "3     5324491691   poste      poste  \n",
       "6     6175361290   poste      poste  \n",
       "7     7017492270     ups      poste  \n",
       "..           ...     ...        ...  \n",
       "207   6921021581   poste      poste  \n",
       "208   5947881169   poste        dhl  \n",
       "209   4574272249     ups  tnt_fedex  \n",
       "210   6970402894     ups        dhl  \n",
       "211   2244092199     dpd      poste  \n",
       "\n",
       "[202 rows x 9 columns]"
      ]
     },
     "execution_count": 34,
     "metadata": {},
     "output_type": "execute_result"
    }
   ],
   "source": [
    "df_deliveries"
   ]
  }
 ],
 "metadata": {
  "kernelspec": {
   "display_name": "Python 3",
   "language": "python",
   "name": "python3"
  },
  "language_info": {
   "codemirror_mode": {
    "name": "ipython",
    "version": 3
   },
   "file_extension": ".py",
   "mimetype": "text/x-python",
   "name": "python",
   "nbconvert_exporter": "python",
   "pygments_lexer": "ipython3",
   "version": "3.8.10"
  }
 },
 "nbformat": 4,
 "nbformat_minor": 4
}
