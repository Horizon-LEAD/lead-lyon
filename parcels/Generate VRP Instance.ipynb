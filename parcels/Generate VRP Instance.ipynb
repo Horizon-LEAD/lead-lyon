{
 "cells": [
  {
   "cell_type": "code",
   "execution_count": 1,
   "metadata": {
    "tags": [
     "parameters"
    ]
   },
   "outputs": [],
   "source": [
    "input_path = \"input\"\n",
    "output_path = \"output\"\n",
    "\n",
    "seed = 0"
   ]
  },
  {
   "cell_type": "code",
   "execution_count": 2,
   "metadata": {},
   "outputs": [
    {
     "name": "stderr",
     "output_type": "stream",
     "text": [
      "/home/shoerl/anaconda3/envs/lead_lyon/lib/python3.8/site-packages/geopandas/_compat.py:106: UserWarning: The Shapely GEOS version (3.8.0-CAPI-1.13.1 ) is incompatible with the GEOS version PyGEOS was compiled with (3.9.1-CAPI-1.14.2). Conversions between both will be slow.\n",
      "  warnings.warn(\n"
     ]
    }
   ],
   "source": [
    "import numpy as np\n",
    "import pandas as pd\n",
    "from tqdm.notebook import tqdm\n",
    "import itertools\n",
    "import geopandas as gpd\n",
    "import os"
   ]
  },
  {
   "cell_type": "code",
   "execution_count": 3,
   "metadata": {},
   "outputs": [],
   "source": [
    "assert os.path.exists(\"%s/area.gpkg\" % input_path)\n",
    "assert os.path.exists(\"%s/vrp_network.gpkg\" % input_path)\n",
    "assert os.path.exists(\"%s/vrp_nodes.gpkg\" % input_path)\n",
    "\n",
    "assert os.path.exists(\"%s/slots.csv\" % input_path)\n",
    "assert os.path.exists(\"%s/homes.gpkg\" % input_path)"
   ]
  },
  {
   "cell_type": "markdown",
   "metadata": {},
   "source": [
    "# Relevant information"
   ]
  },
  {
   "cell_type": "code",
   "execution_count": 4,
   "metadata": {},
   "outputs": [],
   "source": [
    "df_spatial = gpd.read_file(\"%s/homes.gpkg\" % input_path)"
   ]
  },
  {
   "cell_type": "code",
   "execution_count": 5,
   "metadata": {},
   "outputs": [],
   "source": [
    "df_slots = pd.read_csv(\"%s/slots.csv\" % input_path, sep = \";\")"
   ]
  },
  {
   "cell_type": "markdown",
   "metadata": {},
   "source": [
    "# Filter Confluence households"
   ]
  },
  {
   "cell_type": "code",
   "execution_count": 6,
   "metadata": {},
   "outputs": [],
   "source": [
    "confluence_households = gpd.sjoin(\n",
    "    df_spatial,\n",
    "    gpd.read_file(\"%s/area.gpkg\" % input_path),\n",
    "    op = \"within\"\n",
    ")[\"household_id\"].unique()"
   ]
  },
  {
   "cell_type": "code",
   "execution_count": 7,
   "metadata": {},
   "outputs": [],
   "source": [
    "df_confluence = df_slots[df_slots[\"household_id\"].isin(confluence_households)]"
   ]
  },
  {
   "cell_type": "code",
   "execution_count": 8,
   "metadata": {},
   "outputs": [],
   "source": [
    "df_nodes = gpd.read_file(\"%s/vrp_nodes.gpkg\" % input_path)"
   ]
  },
  {
   "cell_type": "code",
   "execution_count": 9,
   "metadata": {},
   "outputs": [],
   "source": [
    "# Find household nodes\n",
    "import sklearn\n",
    "import sklearn.neighbors\n",
    "\n",
    "node_index = sklearn.neighbors.KDTree(\n",
    "    np.vstack([df_nodes[\"geometry\"].x.values, df_nodes[\"geometry\"].y.values]).T\n",
    ")\n",
    "\n",
    "df_households = df_slots.drop_duplicates(\"household_id\")[[\"household_id\", \"x\", \"y\"]]\n",
    "\n",
    "df_households[\"location_id\"] = df_nodes.iloc[node_index.query(\n",
    "    np.vstack([df_households[\"x\"].values, df_households[\"y\"].values]).T\n",
    ")[1].flatten()][\"id\"].values"
   ]
  },
  {
   "cell_type": "code",
   "execution_count": 10,
   "metadata": {},
   "outputs": [],
   "source": [
    "df_deliveries = pd.merge(df_confluence, df_households[[\"household_id\", \"location_id\"]])\n",
    "\n",
    "df_deliveries.to_csv(\n",
    "    \"%s/vrp_deliveries.csv\" % output_path, sep = \";\"\n",
    ")"
   ]
  }
 ],
 "metadata": {
  "celltoolbar": "Tags",
  "kernelspec": {
   "display_name": "Python 3",
   "language": "python",
   "name": "python3"
  },
  "language_info": {
   "codemirror_mode": {
    "name": "ipython",
    "version": 3
   },
   "file_extension": ".py",
   "mimetype": "text/x-python",
   "name": "python",
   "nbconvert_exporter": "python",
   "pygments_lexer": "ipython3",
   "version": "3.8.10"
  }
 },
 "nbformat": 4,
 "nbformat_minor": 4
}
